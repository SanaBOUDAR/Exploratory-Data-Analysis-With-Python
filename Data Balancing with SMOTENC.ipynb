{
 "cells": [
  {
   "cell_type": "code",
   "execution_count": 3,
   "id": "d6d24b30",
   "metadata": {},
   "outputs": [
    {
     "name": "stdout",
     "output_type": "stream",
     "text": [
      "Distribution des classes avant SMOTENC:\n",
      "I_CLASS\n",
      "0    93593\n",
      "1    16673\n",
      "Name: count, dtype: int64\n",
      "Distribution des classes après SMOTENC:\n",
      "I_CLASS\n",
      "0    93593\n",
      "1    93593\n",
      "Name: count, dtype: int64\n"
     ]
    }
   ],
   "source": [
    "import pandas as pd\n",
    "from imblearn.over_sampling import SMOTENC\n",
    "\n",
    "# Uploading the dataset\n",
    "df=pd.read_excel('DATA.xlsx', engine='openpyxl')\n",
    "\n",
    "# Identifying categorical columns\n",
    "categorical_features = [4,5,6,7,8,9,10,11]\n",
    "\n",
    "# Selecting the target variables , in this case 'I_CLASS'\n",
    "X = df.drop('I_CLASS', axis=1)\n",
    "y = df['I_CLASS']\n",
    "\n",
    "\n",
    "# Applying SMOTENC on the whole dataset\n",
    "smote_nc = SMOTENC(categorical_features=categorical_features, random_state=42)\n",
    "X_resampled, y_resampled = smote_nc.fit_resample(X, y)\n",
    "\n",
    "# Printing before and after resylts\n",
    "print(\"Class distribution avant SMOTENC:\")\n",
    "print(y.value_counts())\n",
    "\n",
    "print(\"Class distribution after SMOTENC:\")\n",
    "print(pd.Series(y_resampled).value_counts())\n",
    "\n",
    "# Creating a new dataframe with balanced data\n",
    "X_resampled_df = pd.DataFrame(X_resampled, columns=X.columns)\n",
    "y_resampled_df = pd.DataFrame(y_resampled, columns=['I_CLASS'])\n",
    "\n",
    "# Combine features with the target variables\n",
    "resampled_df = pd.concat([X_resampled_df, y_resampled_df], axis=1)\n",
    "\n",
    "# save the final dataframe\n",
    "resampled_df.to_excel('BalancedData.xlsx', index=False, engine='openpyxl')\n"
   ]
  },
  {
   "cell_type": "code",
   "execution_count": null,
   "id": "12e183d3",
   "metadata": {},
   "outputs": [],
   "source": []
  }
 ],
 "metadata": {
  "kernelspec": {
   "display_name": "Python 3 (ipykernel)",
   "language": "python",
   "name": "python3"
  },
  "language_info": {
   "codemirror_mode": {
    "name": "ipython",
    "version": 3
   },
   "file_extension": ".py",
   "mimetype": "text/x-python",
   "name": "python",
   "nbconvert_exporter": "python",
   "pygments_lexer": "ipython3",
   "version": "3.11.5"
  }
 },
 "nbformat": 4,
 "nbformat_minor": 5
}
