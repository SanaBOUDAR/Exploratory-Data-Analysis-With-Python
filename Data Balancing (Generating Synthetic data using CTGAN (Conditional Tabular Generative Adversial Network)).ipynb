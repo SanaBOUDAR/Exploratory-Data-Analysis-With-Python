{
 "cells": [
  {
   "cell_type": "code",
   "execution_count": null,
   "id": "b54408b3",
   "metadata": {},
   "outputs": [],
   "source": [
    "!pip install ctgan\n"
   ]
  },
  {
   "cell_type": "code",
   "execution_count": 7,
   "id": "88c85220",
   "metadata": {},
   "outputs": [
    {
     "name": "stdout",
     "output_type": "stream",
     "text": [
      "Distribution des classes après CTGAN:\n",
      "I_CLASS\n",
      "0    92771\n",
      "1    92771\n",
      "Name: count, dtype: int64\n"
     ]
    }
   ],
   "source": [
    "import pandas as pd\n",
    "from ctgan import CTGAN\n",
    "\n",
    "#Upload the imbalanced Dataset\n",
    "df = pd.read_excel('ImbalancedData.xlsx', engine='openpyxl')\n",
    "\n",
    "# Separating the target class\n",
    "X = df.drop('I_CLASS', axis=1)\n",
    "y = df['I_CLASS']\n",
    "\n",
    "\n",
    "# Identifying categorical columns\n",
    "categorical_columns=['m2_Wilaya','CATEGORIE','t24_Profession','CODE','t18_Genre','t23_EtatCivil','I_CLASS']\n",
    "\n",
    "\n",
    "# Splitting data\n",
    "df_minority = df[df.I_CLASS == 1]\n",
    "df_majority = df[df.I_CLASS == 0]\n",
    "\n",
    "\n",
    "# Applying CTGAN to generate synthetic data for the minority class\n",
    "ctgan = CTGAN(epochs=100)  # Training the network for 100 epochs\n",
    "ctgan.fit(df_minority, categorical_columns)\n",
    "\n",
    "num_samples = len(df_majority) - len(df_minority)  # Number of samples needed to balance the dataset\n",
    "synthetic_data = ctgan.sample(num_samples)\n",
    "\n",
    "\n",
    "# Assign the minority class to the generated data\n",
    "synthetic_data['I_CLASS'] = 1\n",
    "\n",
    "\n",
    "# Combine the original and the generated data\n",
    "df_synthetic = pd.DataFrame(synthetic_data, columns=df.columns)\n",
    "df_balanced = pd.concat([df, df_synthetic], ignore_index=True)\n",
    "\n",
    "# Check the imbalance after applying CTGAN\n",
    "print(\"Distribution of the target variable after applying CTGAN:\")\n",
    "print(df_balanced['I_CLASS'].value_counts())\n",
    "\n",
    "# Save the balanced dataframe\n",
    "df_balanced.to_excel('BalancedData.xlsx', index=False, engine='openpyxl')\n"
   ]
  },
  {
   "cell_type": "code",
   "execution_count": null,
   "id": "bff02082",
   "metadata": {},
   "outputs": [],
   "source": []
  }
 ],
 "metadata": {
  "kernelspec": {
   "display_name": "Python 3 (ipykernel)",
   "language": "python",
   "name": "python3"
  },
  "language_info": {
   "codemirror_mode": {
    "name": "ipython",
    "version": 3
   },
   "file_extension": ".py",
   "mimetype": "text/x-python",
   "name": "python",
   "nbconvert_exporter": "python",
   "pygments_lexer": "ipython3",
   "version": "3.11.5"
  }
 },
 "nbformat": 4,
 "nbformat_minor": 5
}
