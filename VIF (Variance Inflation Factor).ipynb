{
 "cells": [
  {
   "cell_type": "code",
   "execution_count": null,
   "id": "7a44b5d4",
   "metadata": {},
   "outputs": [],
   "source": [
    "import pandas as pd\n",
    "\n",
    "# Upload the dataset\n",
    "df = pd.read_excel('DATA.xlsx', engine='openpyxl')\n",
    "\n",
    "# Separating numerical and categorical columns\n",
    "colonnes_numeriques = ['MT_ACCORD', 'Revenu_estime','DUR_P','Age']  \n",
    "colonnes_categorielles=['m2_Wilaya','CATEGORIE','CODE','t18_Genre','t23_EtatCivil','I_CLASS']\n",
    "\n",
    "numeriques = df[colonnes_numeriques]\n",
    "categorielles = df[colonnes_categorielles]\n"
   ]
  },
  {
   "cell_type": "code",
   "execution_count": null,
   "id": "36286009",
   "metadata": {},
   "outputs": [],
   "source": [
    "import statsmodels.api as sm\n",
    "from statsmodels.stats.outliers_influence import variance_inflation_factor\n",
    "\n",
    "#Calculating VIF for numerical data only\n",
    "\n",
    "#  Add a constant \n",
    "X = sm.add_constant(numeriques)\n",
    "\n",
    "# Calculate VIF for numerical variables\n",
    "vif_data = pd.DataFrame()\n",
    "vif_data['Feature'] = X.columns\n",
    "vif_data['VIF'] = [variance_inflation_factor(X.values, i) for i in range(X.shape[1])]\n",
    "\n",
    "#Print results\n",
    "print(vif_data)\n"
   ]
  },
  {
   "cell_type": "code",
   "execution_count": null,
   "id": "bbe04f71",
   "metadata": {},
   "outputs": [],
   "source": [
    "#Calculating VIF for numerical and categorical data (numerical columns are transformed using One Hot Encoding)\n",
    "\n",
    "# One hot encoding of categorical variables\n",
    "categorielles_dummies = pd.get_dummies(categorielles, drop_first=True)\n",
    "\n",
    "# Concatenation of numerical and categorical columns\n",
    "X = pd.concat([numeriques, categorielles_dummies], axis=1)\n",
    "\n",
    "# # Add a constant\n",
    "X = sm.add_constant(X)\n",
    "\n",
    "# Calculate VIF for each variable\n",
    "vif_data = pd.DataFrame()\n",
    "vif_data['Feature'] = X.columns\n",
    "vif_data['VIF'] = [variance_inflation_factor(X.values, i) for i in range(X.shape[1])]\n",
    "\n",
    "#Print results\n",
    "print(vif_data)\n"
   ]
  }
 ],
 "metadata": {
  "kernelspec": {
   "display_name": "Python 3 (ipykernel)",
   "language": "python",
   "name": "python3"
  },
  "language_info": {
   "codemirror_mode": {
    "name": "ipython",
    "version": 3
   },
   "file_extension": ".py",
   "mimetype": "text/x-python",
   "name": "python",
   "nbconvert_exporter": "python",
   "pygments_lexer": "ipython3",
   "version": "3.11.5"
  }
 },
 "nbformat": 4,
 "nbformat_minor": 5
}
